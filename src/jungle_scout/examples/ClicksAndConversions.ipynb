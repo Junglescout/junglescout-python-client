{
 "cells": [
  {
   "cell_type": "markdown",
   "metadata": {},
   "source": [
    "## Description\n",
    "Combine ASIN-level keyword data with Share of Voice data to show clicks and conversions by keyword. This report requires less than 50 API calls.\n",
    "\n",
    "### Inputs needed:\n",
    "\n",
    "- ASINs - Input up to 10 ASINs to pull in the top keywords related to those ASINs \n",
    "- Number of keywords - Specify the number of keywords you want to pull in data for (i.e., if you select 10, the report will highlight the clicks and conversions data for the top 10 keywords by search volume)"
   ]
  },
  {
   "cell_type": "markdown",
   "metadata": {},
   "source": [
    "First, set up your API key and API Key Name and instantiate the client"
   ]
  },
  {
   "cell_type": "code",
   "execution_count": null,
   "metadata": {},
   "outputs": [],
   "source": [
    "from jungle_scout.client import Client\n",
    "from jungle_scout.models.parameters import (\n",
    "    Marketplace,\n",
    ")\n",
    "\n",
    "\n",
    "API_KEY_NAME = \"API_KEY_NAME\"\n",
    "API_KEY = \"API_KEY\"\n",
    "\n",
    "client = Client(api_key_name=API_KEY_NAME, api_key=API_KEY, marketplace=Marketplace.US)"
   ]
  },
  {
   "cell_type": "markdown",
   "metadata": {},
   "source": [
    "Now, we define a function to pull in the top keywords for the ASINs provided. This function will return the top keywords for the ASINs provided."
   ]
  },
  {
   "cell_type": "code",
   "execution_count": null,
   "metadata": {},
   "outputs": [],
   "source": [
    "import pandas as pd\n",
    "\n",
    "def get_top_keywords(asins,number_of_keywords, marketplace = Marketplace.US):\n",
    "\n",
    "  keywords_by_asin = client.keywords_by_asin(\n",
    "    asin=asins,\n",
    "  )\n",
    "\n",
    "  df = pd.json_normalize(keywords_by_asin.data)\n",
    "\n",
    "\n",
    "  df = df[[\n",
    "      'attributes.name', 'attributes.monthly_trend',\n",
    "      'attributes.monthly_search_volume_exact'\n",
    "  ]]\n",
    "\n",
    "\n",
    "  df.rename(columns={\n",
    "      'attributes.name': 'Keyword',\n",
    "      'attributes.monthly_trend': 'Monthly_Trend',\n",
    "      'attributes.monthly_search_volume_exact': 'Monthly_Search_Volume'\n",
    "  }, inplace=True)\n",
    "\n",
    "\n",
    "  top_keywords = list(df['Keyword'][:number_of_keywords].values)\n",
    "\n",
    "\n",
    "  return top_keywords"
   ]
  },
  {
   "cell_type": "markdown",
   "metadata": {},
   "source": [
    "Now we define a function that pulls data from the Share of Voice API endpoint. This function takes a list of ASINs and returns the share of voice for each ASIN."
   ]
  },
  {
   "cell_type": "code",
   "execution_count": null,
   "metadata": {},
   "outputs": [],
   "source": [
    "def pull_clicks_and_conversions_SOV_API(top_keywords, marketplace = Marketplace.US):\n",
    "  clicks_conversions = pd.DataFrame(columns=[\n",
    "    'asin', 'name', 'brand', 'clicks', 'conversions', 'conversion_rate',\n",
    "    'Related Keyword'\n",
    "  ])\n",
    "  \n",
    "  for keyword in top_keywords:\n",
    "\n",
    "      share_of_voice = client.share_of_voice(\n",
    "          keyword=keyword,\n",
    "          marketplace=marketplace,\n",
    "      )\n",
    "\n",
    "      data_sect = share_of_voice.data[0]\n",
    "\n",
    "      attribute = data_sect[\"attributes\"]\n",
    "\n",
    "      df1 = pd.json_normalize(attribute[\"brands\"])\n",
    "\n",
    "      df1 = pd.json_normalize(attribute[\"top_asins\"])\n",
    "\n",
    "      df1['Related Keyword'] = keyword\n",
    "\n",
    "      clicks_conversions = pd.concat([clicks_conversions, df1], ignore_index=True)\n",
    "      \n",
    "  return clicks_conversions"
   ]
  },
  {
   "cell_type": "markdown",
   "metadata": {},
   "source": [
    "Finally, we define a function that combines the data from the previous functions and returns the clicks and conversions data for the top keywords for the ASINs provided."
   ]
  },
  {
   "cell_type": "code",
   "execution_count": null,
   "metadata": {},
   "outputs": [],
   "source": [
    "from IPython.display import display\n",
    "\n",
    "def compile_report_data(clicks_conversions, top_keywords):\n",
    "    clicks_conversions = clicks_conversions.sort_values(\n",
    "        by='clicks', ascending=False).reset_index()\n",
    "    clicks_conversions.drop(columns=['index'], inplace=True)\n",
    "    print(\n",
    "        f\"This clicks and conversions data points are based on the following keywords, sorted by search volume:\"\n",
    "    )\n",
    "    for key in top_keywords:\n",
    "        print(f' - {key.title()}')\n",
    "    total_clicks = clicks_conversions['clicks'].sum()\n",
    "    total_conversions = clicks_conversions['conversions'].sum()\n",
    "    conversion_rate = total_conversions / total_clicks\n",
    "    print('\\nOverall Metrics : ')\n",
    "    print(f' - Total Clicks : {total_clicks}')\n",
    "    print(f' - Total Conversions : {total_conversions}')\n",
    "    print(f' - Conversion Rate : {\"{:.2%}\".format(conversion_rate)}')\n",
    "    print(f' - Based on {len(clicks_conversions)} ASINs')\n",
    "\n",
    "\n",
    "    clicks_conversions_grouped = clicks_conversions.groupby('brand')[[\n",
    "        'clicks', 'conversions'\n",
    "    ]].sum().reset_index().sort_values(by='clicks', ascending=False)\n",
    "\n",
    "\n",
    "    clicks_conversions_grouped['conversion_rate'] = clicks_conversions_grouped[\n",
    "        'conversions'] / clicks_conversions_grouped['clicks']\n",
    "\n",
    "\n",
    "    clicks_conversions_grouped_keyword = clicks_conversions.groupby(\n",
    "        'Related Keyword')[['clicks', 'conversions'\n",
    "                            ]].sum().reset_index().sort_values(by='clicks',\n",
    "                                                               ascending=False)\n",
    "\n",
    "\n",
    "    clicks_conversions_grouped_keyword[\n",
    "        'conversion_rate'] = clicks_conversions_grouped_keyword[\n",
    "            'conversions'] / clicks_conversions_grouped_keyword['clicks']\n",
    "\n",
    "    return display(clicks_conversions_grouped, clicks_conversions,\n",
    "                   clicks_conversions_grouped_keyword)"
   ]
  },
  {
   "cell_type": "code",
   "execution_count": null,
   "metadata": {},
   "outputs": [],
   "source": [
    "asins = ['B09BCMMFZ2',\n",
    " 'B0764P9T73',\n",
    " 'B08T34VX9M',\n",
    " 'B089P8XVGZ',\n",
    " 'B097CVZ2N2',\n",
    " 'B099NBCVLR',\n",
    " 'B09JHR1K76',\n",
    " 'B089W847RL',\n",
    " 'B08P4VLB5H',\n",
    " 'B07XVTD4F2']\n",
    "\n",
    " ## Input the number of keywords that you want to take into account. Each keyword returns the top 3 asins and\n",
    "## there clicks and conversions data. So 10 keywords would return C&C data for 30 asins.\n",
    "number_of_keywords = 10"
   ]
  },
  {
   "cell_type": "code",
   "execution_count": null,
   "metadata": {},
   "outputs": [],
   "source": [
    "keywords = get_top_keywords(asins, number_of_keywords)"
   ]
  },
  {
   "cell_type": "code",
   "execution_count": null,
   "metadata": {},
   "outputs": [],
   "source": [
    "\n",
    "clicks_conversions = pull_clicks_and_conversions_SOV_API(keywords)"
   ]
  },
  {
   "cell_type": "code",
   "execution_count": null,
   "metadata": {},
   "outputs": [],
   "source": [
    "\n",
    "clicks_conversions_report = compile_report_data(clicks_conversions, keywords)"
   ]
  }
 ],
 "metadata": {
  "kernelspec": {
   "display_name": ".venv",
   "language": "python",
   "name": "python3"
  },
  "language_info": {
   "codemirror_mode": {
    "name": "ipython",
    "version": 3
   },
   "file_extension": ".py",
   "mimetype": "text/x-python",
   "name": "python",
   "nbconvert_exporter": "python",
   "pygments_lexer": "ipython3",
   "version": "3.12.2"
  }
 },
 "nbformat": 4,
 "nbformat_minor": 2
}
